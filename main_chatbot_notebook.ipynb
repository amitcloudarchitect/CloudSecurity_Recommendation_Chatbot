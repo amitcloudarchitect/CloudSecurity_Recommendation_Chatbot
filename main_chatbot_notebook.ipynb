!git clone https://github.com/amitcloudarchitect/CloudSecurity_Recommendation_Chatbot.git
# main_chatbot_notebook.ipynb (or a dedicated setup cell)
!pip install -q boto3 langchain transformers accelerate bitsandbytes gradio langchain_community faiss-cpu pydantic python-dotenv
!pip install -q transformers[torch] # Ensure torch is installed for transformers
!pip install -q "huggingface_hub[cli]" # For logging into Hugging Face if needed