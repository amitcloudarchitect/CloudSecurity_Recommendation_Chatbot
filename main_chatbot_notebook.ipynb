{
  "cells": [
    {
      "cell_type": "code",
      "execution_count": null,
      "id": "8490644d",
      "metadata": {
        "id": "8490644d"
      },
      "outputs": [],
      "source": [
        "# main_chatbot_notebook.ipynb (or a dedicated setup cell)\n",
        "!pip install -q boto3 langchain transformers accelerate bitsandbytes gradio langchain_community faiss-cpu pydantic python-dotenv\n",
        "!pip install -q transformers[torch] # Ensure torch is installed for transformers\n",
        "!pip install -q \"huggingface_hub[cli]\" # For logging into Hugging Face if needed"
      ]
    },
    {
      "cell_type": "code",
      "source": [
        "!git clone https://github.com/amitcloudarchitect/CloudSecurity_Recommendation_Chatbot.git"
      ],
      "metadata": {
        "id": "M8_4_eaTmu40",
        "outputId": "8ef255ff-86a3-48fd-b7c7-fe3c551bc915",
        "colab": {
          "base_uri": "https://localhost:8080/"
        }
      },
      "id": "M8_4_eaTmu40",
      "execution_count": 1,
      "outputs": [
        {
          "output_type": "stream",
          "name": "stdout",
          "text": [
            "Cloning into 'CloudSecurity_Recommendation_Chatbot'...\n",
            "remote: Enumerating objects: 27, done.\u001b[K\n",
            "remote: Counting objects: 100% (27/27), done.\u001b[K\n",
            "remote: Compressing objects: 100% (25/25), done.\u001b[K\n",
            "remote: Total 27 (delta 10), reused 0 (delta 0), pack-reused 0 (from 0)\u001b[K\n",
            "Receiving objects: 100% (27/27), 9.51 KiB | 9.51 MiB/s, done.\n",
            "Resolving deltas: 100% (10/10), done.\n"
          ]
        }
      ]
    },
    {
      "cell_type": "code",
      "source": [],
      "metadata": {
        "id": "Rf9OWePzmw2y"
      },
      "id": "Rf9OWePzmw2y",
      "execution_count": null,
      "outputs": []
    }
  ],
  "metadata": {
    "language_info": {
      "name": "python"
    },
    "colab": {
      "provenance": []
    },
    "kernelspec": {
      "name": "python3",
      "display_name": "Python 3"
    }
  },
  "nbformat": 4,
  "nbformat_minor": 5
}