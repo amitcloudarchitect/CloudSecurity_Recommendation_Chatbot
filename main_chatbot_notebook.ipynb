{
  "cells": [
    {
      "cell_type": "code",
      "execution_count": null,
      "id": "8490644d",
      "metadata": {
        "id": "8490644d"
      },
      "outputs": [],
      "source": [
        "# main_chatbot_notebook.ipynb (or a dedicated setup cell)\n",
        "!pip install -q boto3 langchain transformers accelerate bitsandbytes gradio langchain_community faiss-cpu pydantic python-dotenv\n",
        "!pip install -q transformers[torch] # Ensure torch is installed for transformers\n",
        "!pip install -q \"huggingface_hub[cli]\" # For logging into Hugging Face if needed"
      ]
    }
  ],
  "metadata": {
    "language_info": {
      "name": "python"
    },
    "colab": {
      "provenance": []
    },
    "kernelspec": {
      "name": "python3",
      "display_name": "Python 3"
    }
  },
  "nbformat": 4,
  "nbformat_minor": 5
}